{
 "cells": [
  {
   "cell_type": "markdown",
   "metadata": {},
   "source": [
    "# Exercise - Create and manage a project file\n",
    "n this exercise, you'll work on a Python project that a colleague has created. You've fetched it from GitHub, and you need to restore it so you can work with it. You might also need to upgrade dependencies.\n",
    "\n",
    "## Create a virtual environment\n",
    "Before you start, create a virtual environment and place yourself in it. By doing so, you isolate yourself from the rest of your machine. Your environment should be isolated so you don't affect the rest of the machine when you install libraries.\n",
    "\n",
    "1. Run venv env, to create a virtual environment called env:"
   ]
  },
  {
   "cell_type": "code",
   "execution_count": null,
   "metadata": {
    "vscode": {
     "languageId": "shellscript"
    }
   },
   "outputs": [],
   "source": [
    "python3 -m venv env"
   ]
  },
  {
   "cell_type": "markdown",
   "metadata": {},
   "source": [
    "You should now see a new env subdirectory.\n",
    "\n",
    "2. To activate the virtual environment, run the following command on Windows:"
   ]
  },
  {
   "cell_type": "code",
   "execution_count": null,
   "metadata": {
    "vscode": {
     "languageId": "shellscript"
    }
   },
   "outputs": [],
   "source": [
    "# Windows\n",
    " source env/Scripts/activate\n",
    "\n",
    " # Linux, WSL or macOS\n",
    " source env/bin/activate"
   ]
  },
  {
   "cell_type": "markdown",
   "metadata": {},
   "source": [
    "Your command prompt should start with (env) to indicate the name of the virtual environment.\n",
    "\n",
    "## Install dependencies for a project\n",
    "You have access to some source code and a requirements.txt file. The .txt file contains libraries that you want to download. You need to download these libraries so your program will function as intended.\n",
    "\n",
    "1. Create the needed files from the terminal:\n",
    "\n"
   ]
  },
  {
   "cell_type": "code",
   "execution_count": null,
   "metadata": {
    "vscode": {
     "languageId": "shellscript"
    }
   },
   "outputs": [],
   "source": [
    "mkdir src\n",
    "cd src\n",
    "touch app.py \n",
    "touch requirements.txt"
   ]
  },
  {
   "cell_type": "markdown",
   "metadata": {},
   "source": [
    "2. Add the following content to app.py:"
   ]
  },
  {
   "cell_type": "code",
   "execution_count": null,
   "metadata": {},
   "outputs": [],
   "source": [
    "from datetime import *\n",
    "from dateutil.relativedelta import *\n",
    "now = datetime.now()\n",
    "print(now)\n",
    "\n",
    "now = now + relativedelta(months=1, weeks=1, hour=10)\n",
    "\n",
    "print(now)"
   ]
  },
  {
   "cell_type": "markdown",
   "metadata": {},
   "source": [
    "3. Add the following content to requirements.txt:"
   ]
  },
  {
   "cell_type": "raw",
   "metadata": {},
   "source": [
    "python-dateutil==2.8.2\n",
    "six==1.16.0"
   ]
  },
  {
   "cell_type": "markdown",
   "metadata": {},
   "source": [
    "4. Run pip install to install libraries specified in requirements.txt:\n",
    "\n"
   ]
  },
  {
   "cell_type": "code",
   "execution_count": null,
   "metadata": {
    "vscode": {
     "languageId": "shellscript"
    }
   },
   "outputs": [],
   "source": [
    "pip install -r requirements.txt"
   ]
  },
  {
   "cell_type": "markdown",
   "metadata": {},
   "source": [
    "You'll see output similar to the following text:"
   ]
  },
  {
   "cell_type": "raw",
   "metadata": {},
   "source": [
    "Using cached python_dateutil-2.8.2-py2.py3-none-any.whl (247 kB)\n",
    "Requirement already satisfied: six==1.16.0 in ./env/lib/python3.9/site-packages (from -r requirements.txt (line 2)) (1.16.0)\n",
    "Installing collected packages: python-dateutil\n",
    "Successfully installed python-dateutil-2.8.2"
   ]
  },
  {
   "cell_type": "markdown",
   "metadata": {},
   "source": [
    "Congratulations! You've successfully restored a project that had nothing but application files and a requirements.txt file in it."
   ]
  },
  {
   "cell_type": "markdown",
   "metadata": {},
   "source": [
    "## Upgrade a package\n",
    "Imagine that the project you created is using an older version of the library python-dateutil. Also, your team has asked you to install only fixes. In other words, the team wants you to upgrade the patch version and not install a major update, because that might be risky for your application and potentially break it.\n",
    "\n",
    "Let's first simulate being on an earlier version of python-dateutil.\n",
    "\n",
    "1. Run pip install:"
   ]
  },
  {
   "cell_type": "code",
   "execution_count": null,
   "metadata": {
    "vscode": {
     "languageId": "shellscript"
    }
   },
   "outputs": [],
   "source": [
    "pip install python-dateutil===2.7.4"
   ]
  },
  {
   "cell_type": "markdown",
   "metadata": {},
   "source": [
    "Now, you should be on version 2.7.4. Next, you want to try to upgrade to the latest patch version.\n",
    "\n",
    "2. Run pip install --upgrade:"
   ]
  },
  {
   "cell_type": "code",
   "execution_count": null,
   "metadata": {
    "vscode": {
     "languageId": "shellscript"
    }
   },
   "outputs": [],
   "source": [
    "pip install \"python-dateutil==2.7.*\" --upgrade"
   ]
  },
  {
   "cell_type": "markdown",
   "metadata": {},
   "source": [
    "The last line of your output should say \"Successfully installed python-dateutil-2.7.5.\" That means it upgraded the package by looking at the rightmost number.\n",
    "\n",
    "Congratulations! You've upgraded your library in a responsible way."
   ]
  }
 ],
 "metadata": {
  "kernelspec": {
   "display_name": "Python 3.10.4 ('venv': venv)",
   "language": "python",
   "name": "python3"
  },
  "language_info": {
   "name": "python",
   "version": "3.10.4"
  },
  "orig_nbformat": 4,
  "vscode": {
   "interpreter": {
    "hash": "49842a8c3c8cece145f652683fdaceb9e3aea5fc5ed9c7412dd0209754e94e68"
   }
  }
 },
 "nbformat": 4,
 "nbformat_minor": 2
}
