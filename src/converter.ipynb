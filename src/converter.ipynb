{
 "cells": [
  {
   "cell_type": "markdown",
   "metadata": {},
   "source": [
    "## Creating reusable applications\n",
    "Having a program with hard-coded values limits its flexibility. Your first officer likes the program you built to convert parsecs to lightyears, but wants the ability to specify a value for parsecs. She wants you to create a program which can accept user input.\n",
    "\n",
    "This exercise is broken into a series of steps. For each step you will be presented with the goal for the step, followed by an empty cell. Enter your Python into the cell and run it. The solution for each step will follow each cell.\n",
    "\n",
    "### Accepting user input\n",
    "In the prior exercise you created code to convert parsecs to lightyears and display the results, which looked like the following:"
   ]
  },
  {
   "cell_type": "code",
   "execution_count": null,
   "metadata": {},
   "outputs": [],
   "source": [
    "parsecs = 11\n",
    "lightyears = parsecs * 3.26\n",
    "print(str(parsecs) + \" parsecs is \" + str(lightyears) + \" lightyears\")"
   ]
  },
  {
   "cell_type": "markdown",
   "metadata": {},
   "source": [
    "Using this code as a foundation, update how parsecs is set. Start by creating a variable named parsecs_input and setting it to the result of input, which should prompt the user to enter the number of parsecs. Then convert parsecs_input to an integer by using int and storing it in parsecs. Finish by performing the calculation and displaying the result."
   ]
  },
  {
   "cell_type": "code",
   "execution_count": null,
   "metadata": {},
   "outputs": [],
   "source": [
    "# Enter code below\n",
    "parsecs_input = int(input(\"Enter the number of parsecs: \"))\n",
    "parsecs = parsecs_input\n",
    "lightyears = parsecs * 3.26\n",
    "print(f\"{parsecs} parsecs is {lightyears} lightyears\")"
   ]
  }
 ],
 "metadata": {
  "language_info": {
   "name": "python"
  },
  "orig_nbformat": 4
 },
 "nbformat": 4,
 "nbformat_minor": 2
}
